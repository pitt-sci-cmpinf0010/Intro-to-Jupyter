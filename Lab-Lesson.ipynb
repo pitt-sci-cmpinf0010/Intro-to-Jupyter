{
 "cells": [
  {
   "cell_type": "markdown",
   "metadata": {},
   "source": [
    "# Skills Lab 1 - Intro to Jupyter!\n",
    "\n",
    "Big Ideas in Computing and Information\n"
   ]
  },
  {
   "cell_type": "markdown",
   "metadata": {},
   "source": [
    "👋Hello! Happy new semester! \n",
    "\n",
    "![new year](https://media.giphy.com/media/27IZ6zeS8dOqoQo2xY/giphy.gif)\n",
    "\n",
    "Welcome to the Big Ideas in Computing and Information lab. This document should familiarize you with JupyterHub and creating and editing Jupyter notebooks, something that you're going to be doing quite a lot of over the course of this semester.\n",
    "\n"
   ]
  },
  {
   "cell_type": "markdown",
   "metadata": {},
   "source": [
    "## Getting familiar with the File System\n",
    "\n",
    "Look to your left. You should see a list of files: this notebook, a `README.md`, and maybe a few other files inside an `Intro-to-Jupyter` folder. That's the `git` repository that you just cloned; if that doesn't quite make sense to you, hang on a few weeks. We'll get there. If you're not there, you may have to navigate to the right folder; its the same as you would using the file browser on your computer.\n",
    "\n",
    "The following exercises are your lab for this week. In future, you'll usually have a pre-made notebook where you'll fill in your answers in code or Markdown cells. For this week, follow these instructions to create your own notebook!"
   ]
  },
  {
   "cell_type": "markdown",
   "metadata": {},
   "source": [
    "---\n",
    "\n",
    "## **Exercise 1: create a new notebook**\n",
    "\n",
    "1. Go to File → New and select \"Notebook\". This creates a new Jupyter Notebook file. (Alternatively, you can click the \"+\" icon to open a new Launcher, and create your Python 3 Notebook from there.)\n",
    "2. Select the \"Python 3\" kernel.\n",
    "3. Look in the file browser, right-click on \"Untitled.ipynb\" and click \"rename.\" Change the\n",
    "name of the file to \"`<your Pitt username>-lab-1.ipynb`\". (`<your Pitt username>` should be your, uh, Pitt username.)\n",
    "4. Change the first cell in your new notebook to the Markdown cell by clicking on the menu\n",
    "that says \"Code\" and selecting \"Markdown\".\n",
    "5. Try writing some Markdown (and creating a title by using `# ` and text after it) and executing it with Shift-Enter.\n",
    "\n",
    "---\n"
   ]
  },
  {
   "cell_type": "markdown",
   "metadata": {},
   "source": [
    "## Saving your work\n",
    "\n",
    "By default JupyterHub should autosave your work. To check and make sure you have autosave on, you can go to `settings>autosave documents` and ensure that its checked. We still highly recomend you save freqently though! Sometimes the autosave won't occur when you want it! The save icon is the floppy icon.\n",
    "\n",
    "![autosave](img/jupyter-autosave.png)"
   ]
  },
  {
   "cell_type": "markdown",
   "metadata": {},
   "source": [
    "## Double click\n",
    "\n",
    "**Double click** on this cell. You can edit any cell in a notebook by clicking on it, and then hit Shift-Enter to evaluate the cell."
   ]
  },
  {
   "cell_type": "markdown",
   "metadata": {},
   "source": [
    "## Side by side\n",
    "\n",
    "You can view two notebooks at once (for example, this notebook and your new lab notebook) by clicking and dragging their tab within JupyterLab. Those tabs are directly above the notebook. That can be helpful for reading and following instructions without a lot of tab-switching."
   ]
  },
  {
   "cell_type": "markdown",
   "metadata": {},
   "source": [
    "---\n",
    "\n",
    "## **Exercise 2: Markdown**\n",
    "\n",
    "Just for reference, here's that [Markdown cheatsheet](https://github.com/adam-p/markdown-here/wiki/Markdown-Cheatsheet) again.\n",
    "\n",
    "1. In the top cell, create a level 1 header and give your notebook a title. You can give it any\n",
    "title you want.\n",
    "2. Below the title, create a list with two elements: your name, and today's date.\n",
    "3. Create a new Markdown cell and put the following text at the top:    \n",
    "`## Markdown Exercises`\n",
    "4. Write a paragraph of text that answers the following questions. Include some **bold** and *italic* text.\n",
    "    * Why are you or are you not interested in learning to code?\n",
    "    * What do you hope being able to program will enable you to do?\n",
    "    * Make a Markdown list of 5 things you'd like to learn from this course, from SCI, or\n",
    "from Pitt.\n",
    "\n",
    "During your writing, feel free to use other Markdown styles or test out anything fancy, like writing HTML!"
   ]
  },
  {
   "cell_type": "markdown",
   "metadata": {},
   "source": [
    "---\n",
    "\n",
    "## **Exercise 3: Just a bit more of Markdown**\n",
    "\n",
    "1. Create a new Markdown cell.\n",
    "2. Now visit https://giphy.com/ and find an animated gif that represents how you feel at this\n",
    "moment. Click on the GIF, then click \"Copy Link\" and get the \"GIF Link\" from the page.\n",
    "3. Use Markdown image notation to insert the GIF you found into the Markdown cell. (*Hint: it's a lot like link notation but more excited.*)\n",
    "4. Create one more Markdown cell and insert the following text: `---`\n",
    "\n",
    "---"
   ]
  },
  {
   "cell_type": "code",
   "execution_count": null,
   "metadata": {},
   "outputs": [],
   "source": [
    "print(\"Hi! I'm a code cell. Try changing me.\")"
   ]
  },
  {
   "cell_type": "markdown",
   "metadata": {},
   "source": [
    "---\n",
    "\n",
    "## **Exercise 4: executing code in the Jupyter Notebook**\n",
    "\n",
    "1. Create a new Markdown cell with just the following text:    \n",
    "`## Jupyter Notebook Exercises`\n",
    "2. Create a new code cell, then copy the following Python code into the cell and execute it:    \n",
    "`name = input(prompt=\"What is your name? \")`    \n",
    "`print(\"Hello\", name, \"!\")`\n",
    "3. Create a Markdown cell underneath the code cell you just executed and describe in your\n",
    "own words what happened when you ran that code.\n",
    "4. Create a new code cell and copy that same code into the new code cell. Try modifying\n",
    "the code and executing it to see what happens. (Don't worry about making any mistakes, we're just playing around.)\n",
    "5. Create a Markdown cell underneath the code cell you just executed and describe what\n",
    "happened. \n",
    "    * What did you try and modify? \n",
    "    * Did you get an error or did it run successfully?"
   ]
  },
  {
   "cell_type": "markdown",
   "metadata": {},
   "source": [
    "---\n",
    "\n",
    "## **Exercise 5: visualizing data in the Notebook**\n",
    "\n",
    "1. Create a new code cell and copy the following code into the cell and execute it. (The code may take a bit of time to execute, don't worry.)    \n",
    "\n",
    "```python\n",
    "%matplotlib inline\n",
    "import matplotlib.pyplot as plt\n",
    "import pandas as pd\n",
    "# Load the PGH 311 Complaint data\n",
    "data_url = \\\n",
    "\"https://data.wprdc.org/datastore/dump/76fda9d0-69be-4dd5-8108-0de7907fc5a4\"\n",
    "complaints = pd.read_csv(data_url, parse_dates=True, index_col=\"CREATED_ON\")\n",
    "# Produce a graph that shows the number of complaints per month\n",
    "complaints.resample(\"M\").size().plot();\n",
    "plt.show()\n",
    "```\n",
    "\n",
    "2. Create a Markdown cell underneath the code cell you just executed and describe what\n",
    "you see. What do you think the data in this chart tell us?\n",
    "3. Create a new Markdown cell, visit https://giphy.com/, and insert an gif into the Notebook\n",
    "that describes how you feel."
   ]
  },
  {
   "cell_type": "markdown",
   "metadata": {},
   "source": [
    "---\n",
    "\n",
    "## **Exercise 6: uploading your work**\n",
    "\n",
    "1. Make sure your exercise notebook has the correct name: `<your Pitt username>-lab-1.ipynb`. (You won't get credit for your hard work otherwise.)\n",
    "2. Right-click on that notebook and click ↓Download. Download the file to your computer. (This varies depending on your device, but save it somewhere easily accessible.)\n",
    "3. Open [Canvas](https://canvas.pitt.edu) and log in.\n",
    "4. Go to the assignment for this week, hit submit, and upload your lab from your computer. \n",
    "\n",
    "---\n",
    "\n",
    "Good job, and see you next week."
   ]
  },
  {
   "cell_type": "markdown",
   "metadata": {},
   "source": [
    "![jeff](https://media.giphy.com/media/l0Ex8rGSELsb7SEz6/giphy.gif)"
   ]
  }
 ],
 "metadata": {
  "kernelspec": {
   "display_name": "Python 3.8.6 32-bit",
   "language": "python",
   "name": "python3"
  },
  "language_info": {
   "codemirror_mode": {
    "name": "ipython",
    "version": 3
   },
   "file_extension": ".py",
   "mimetype": "text/x-python",
   "name": "python",
   "nbconvert_exporter": "python",
   "pygments_lexer": "ipython3",
   "version": "3.8.6"
  },
  "vscode": {
   "interpreter": {
    "hash": "75e4a6a75c2bafdb358241a31c28830e81db8b6e5287e59fc181d3e0eb9324ab"
   }
  }
 },
 "nbformat": 4,
 "nbformat_minor": 4
}
